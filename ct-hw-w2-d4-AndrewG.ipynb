{
 "cells": [
  {
   "attachments": {},
   "cell_type": "markdown",
   "metadata": {},
   "source": [
    "# Exercises\n",
    "### 1) Create a program that allows a user to continue to add people to an address book until the user quits. Once the user quits, break out of the loop and print out the name and address of everyone in the address book\n",
    "#### Steps\n",
    "1. Create a function that will ask user for name and addresses and stores them in a dictionary\n",
    "2. Define an empty dictionary with which to work (global or local variable?)\n",
    "3. Begin a loop that will continue to ask a user for information until the user \"quits\"\n",
    "4. If the user does not quit, ask for a name and address and store the variables into variables\n",
    "5. Add information to the dictionary with name as the key and address as the value\n",
    "6. If the user does quit, end the loop\n",
    "7. Print out the information from the dictionary in a formatted way\n",
    "8. Execute/Call the function"
   ]
  },
  {
   "cell_type": "code",
   "execution_count": 7,
   "metadata": {},
   "outputs": [
    {
     "name": "stdout",
     "output_type": "stream",
     "text": [
      "Andrew lives in Naperville\n",
      "Tony lives in Grenoble\n",
      "Anya lives in Bern\n",
      "Din lives in Almaty\n",
      "a lives in b\n"
     ]
    }
   ],
   "source": [
    "# Input\n",
    "#   an address book {name:address} being updated \n",
    "#   inside the function: inputs from user\n",
    "# Output\n",
    "#   Updated dictionary (not returned but updated)\n",
    "#   print name and address of everyone in the updated dictionary\n",
    "# Assumptions and Edge cases\n",
    "#   wrong characters when prompted to quit.\n",
    "#       prompt again with suggestion\n",
    "# Logical Steps\n",
    "#   Create a global dictionary to be updated\n",
    "#   in function:\n",
    "#       ask name and address to store them in local variables\n",
    "#       update the dictionary\n",
    "#       ask if user wants to continue\n",
    "#       if yes, go to the beginning of the function\n",
    "#       if no, print the updated address_book\n",
    "\n",
    "\n",
    "address_book = {\n",
    "    \"Andrew\": \"Naperville\",\n",
    "    \"Tony\": \"Grenoble\",\n",
    "    \"Anya\": \"Bern\",\n",
    "    \"Din\": \"Almaty\"\n",
    "}\n",
    "\n",
    "def update_address_book(book_to_be_updated):\n",
    "    # create a positive answer to initiate the loop\n",
    "    answer = 'y'\n",
    "    while answer == 'y':\n",
    "        # Update section\n",
    "        name = input(\"Name:\")\n",
    "        address = input(\"Address:\")\n",
    "        book_to_be_updated.update({name:address})\n",
    "        # Continue section\n",
    "        answer = input(\"Continue? (y/n)\")\n",
    "        # Prompt for valid answer until it is given\n",
    "        while answer != 'y' and answer != 'n':\n",
    "            answer = input(\"Answer unclear. Type 'y' for yes and 'n' for no. Continue? (y/n)\")\n",
    "    # Joining a list of formatted lines with new line\n",
    "    print(\n",
    "        \"\\n\".join(\n",
    "            [f\"{name} lives in {address}\" for name, address in address_book.items()]\n",
    "            )\n",
    "        )\n",
    "\n",
    "update_address_book(address_book)\n"
   ]
  },
  {
   "attachments": {},
   "cell_type": "markdown",
   "metadata": {},
   "source": [
    "### 2) Best Time to Meet\n",
    "\n",
    "Billy is trying to figure out if there is a time that he and his team can meet to work on the project. His three teammates each give him a list of times they are available ('HH:MM' 24-hour). Create a function that will take in an original list plus any number of lists of teammate's available times (*remember \\*args*) and return a list of times where everyone can meet."
   ]
  },
  {
   "cell_type": "code",
   "execution_count": 5,
   "metadata": {},
   "outputs": [
    {
     "name": "stdout",
     "output_type": "stream",
     "text": [
      "{'12:00', '13:00', '09:00', '11:30', '14:30', '10:30'}\n"
     ]
    }
   ],
   "source": [
    "# Inputs:\n",
    "#   (list1,*lists)\n",
    "# Output\n",
    "#   list\n",
    "# Assumptions and edge cases:\n",
    "#   if one of the lists is empty, it means that the person is never free, thus the hole group can never meet\n",
    "# Logical steps\n",
    "#   make all lists into sets and & them\n",
    "#   turn result into a list and return\n",
    "# Pseudocode\n",
    "#   make first list into a set\n",
    "#   make new temp set and assign it the value of the one above\n",
    "#   loop over all other lists\n",
    "#   make each of them into a set and &= to the temp set\n",
    "#   return list(temp_set)\n",
    "\n",
    "# def when_can_we_meet(original_timetable, *other_timetables):\n",
    "#     temp_set = set(original_timetable)\n",
    "#     for t in other_timetables:\n",
    "#         temp_set &= set(t)\n",
    "#     return list(temp_set)\n",
    "\n",
    "def when_can_we_meet(original_timetable, *other_timetables):\n",
    "    return set(original_timetable).intersection(*other_timetables)\n",
    "\n",
    "person1 = ['09:00', '10:30', '11:30', '12:00', '13:00', '14:30']\n",
    "person2 = ['09:30', '10:00', '10:30', '12:00', '14:30', '16:00']\n",
    "person3 = ['09:00', '09:30', '11:00', '11:30', '12:00', '13:30', '14:30', '15:00']\n",
    "person4 = ['11:00', '11:30', '12:00', '14:00', '14:30', '16:30', '17:00']\n",
    "# Available Times: '12:00' and '14:30'\n",
    "\n",
    "print(when_can_we_meet(person1,person2,person3,person4))\n"
   ]
  },
  {
   "cell_type": "code",
   "execution_count": 3,
   "metadata": {},
   "outputs": [
    {
     "name": "stdout",
     "output_type": "stream",
     "text": [
      "Help on method_descriptor:\n",
      "\n",
      "intersection(...)\n",
      "    Return the intersection of two sets as a new set.\n",
      "    \n",
      "    (i.e. all elements that are in both sets.)\n",
      "\n"
     ]
    }
   ],
   "source": [
    "help(set.intersection)"
   ]
  }
 ],
 "metadata": {
  "kernelspec": {
   "display_name": "Python 3.10.8 64-bit",
   "language": "python",
   "name": "python3"
  },
  "language_info": {
   "codemirror_mode": {
    "name": "ipython",
    "version": 3
   },
   "file_extension": ".py",
   "mimetype": "text/x-python",
   "name": "python",
   "nbconvert_exporter": "python",
   "pygments_lexer": "ipython3",
   "version": "3.10.8"
  },
  "orig_nbformat": 4,
  "vscode": {
   "interpreter": {
    "hash": "26de051ba29f2982a8de78e945f0abaf191376122a1563185a90213a26c5da77"
   }
  }
 },
 "nbformat": 4,
 "nbformat_minor": 2
}
